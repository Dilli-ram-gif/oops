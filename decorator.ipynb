{
 "cells": [
  {
   "cell_type": "code",
   "execution_count": 1,
   "id": "92ad7582",
   "metadata": {},
   "outputs": [],
   "source": [
    "# This is the decorator function practice"
   ]
  },
  {
   "cell_type": "code",
   "execution_count": 2,
   "id": "5156a7e5",
   "metadata": {},
   "outputs": [
    {
     "name": "stdout",
     "output_type": "stream",
     "text": [
      "This is before outer function\n",
      "I am called\n",
      "This is after outer function\n"
     ]
    }
   ],
   "source": [
    "def my_decorator(func):\n",
    "    def inner_function():\n",
    "        print(\"This is before outer function\")\n",
    "        func()\n",
    "        print(\"This is after outer function\")\n",
    "    return inner_function\n",
    "\n",
    "@my_decorator\n",
    "def hello():\n",
    "    print(\"I am called\")\n",
    "\n",
    "    \n",
    "hello()"
   ]
  },
  {
   "cell_type": "code",
   "execution_count": 3,
   "id": "a520479d",
   "metadata": {},
   "outputs": [],
   "source": [
    "# This is the another decorator function, a bit more comple_"
   ]
  },
  {
   "cell_type": "code",
   "execution_count": 9,
   "id": "a406d48d",
   "metadata": {},
   "outputs": [
    {
     "name": "stdout",
     "output_type": "stream",
     "text": [
      "I am before the working function\n",
      "7\n",
      "I am after the working function\n"
     ]
    }
   ],
   "source": [
    "def main_funtion(working_function):\n",
    "    def returning_function(a,b):\n",
    "        print(\"I am before the working function\")\n",
    "        working_function(a,b)\n",
    "        print(\"I am after the working function\")\n",
    "    return returning_function\n",
    "\n",
    "\n",
    "\n",
    "@main_funtion\n",
    "def i_work(x,y):\n",
    "    print(x+y)\n",
    "\n",
    "i_work(3,4)"
   ]
  },
  {
   "cell_type": "code",
   "execution_count": null,
   "id": "b3a43264",
   "metadata": {},
   "outputs": [],
   "source": []
  },
  {
   "cell_type": "code",
   "execution_count": null,
   "id": "39a6860d",
   "metadata": {},
   "outputs": [],
   "source": []
  }
 ],
 "metadata": {
  "kernelspec": {
   "display_name": "Python 3 (ipykernel)",
   "language": "python",
   "name": "python3"
  },
  "language_info": {
   "codemirror_mode": {
    "name": "ipython",
    "version": 3
   },
   "file_extension": ".py",
   "mimetype": "text/x-python",
   "name": "python",
   "nbconvert_exporter": "python",
   "pygments_lexer": "ipython3",
   "version": "3.10.9"
  }
 },
 "nbformat": 4,
 "nbformat_minor": 5
}
